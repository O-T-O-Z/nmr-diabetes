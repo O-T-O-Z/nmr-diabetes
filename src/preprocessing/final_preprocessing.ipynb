{
 "cells": [
  {
   "cell_type": "markdown",
   "metadata": {},
   "source": [
    "# Pre-processing NMR\n",
    "The pre-processing of the NMR consists of removing the head and tail of the data, after which the dataset is merged with the original patient IDs."
   ]
  },
  {
   "cell_type": "code",
   "execution_count": null,
   "metadata": {},
   "outputs": [],
   "source": [
    "import pandas as pd\n",
    "import os\n",
    "import sys\n",
    "sys.path.append(\"../../src\")\n",
    "\n",
    "DATA_FOLDER = \"../../datasets.nosync/\"\n",
    "\n",
    "def pre_process_nmr(df: pd.DataFrame) -> pd.DataFrame:\n",
    "    \"\"\"\n",
    "    Pre-process the NMR data by removing the head and tail of the spectrum.\n",
    "\n",
    "    :param df: df containing the NMR data.\n",
    "    :return: pre-processed df.\n",
    "    \"\"\"\n",
    "    df.loc[(df[\"Chemical Shifts\"] > 9.0) & (df[\"PPM\"] != 0), [\"PPM\"]] = 0\n",
    "    df.loc[(df[\"Chemical Shifts\"] < -0.5) & (df[\"PPM\"] != 0), [\"PPM\"]] = 0\n",
    "    df = df[df[\"Chemical Shifts\"] < 9.0]\n",
    "    df = df[df[\"Chemical Shifts\"] > -0.5]\n",
    "    return df"
   ]
  },
  {
   "cell_type": "code",
   "execution_count": null,
   "metadata": {},
   "outputs": [],
   "source": [
    "nmr_df = pd.read_feather(os.path.join(DATA_FOLDER, \"0_nmr.feather\"))\n",
    "labcorp_df = pd.read_csv(os.path.join(DATA_FOLDER, \"0_labcorp.csv\"))"
   ]
  },
  {
   "cell_type": "code",
   "execution_count": null,
   "metadata": {},
   "outputs": [],
   "source": [
    "from visualization import plot_one_spectrum\n",
    "\n",
    "nmr_df = pre_process_nmr(nmr_df)\n",
    "plot_one_spectrum(nmr_df)\n",
    "nmr_df = nmr_df.pivot(index=\"ID\", columns=\"Chemical Shifts\", values=\"PPM\")\n",
    "nmr_df.to_csv(os.path.join(DATA_FOLDER, \"nmr_preprocessed.csv\"), index=True)\n",
    "nmr_df = pd.read_csv(os.path.join(DATA_FOLDER, \"nmr_preprocessed.csv\"))"
   ]
  },
  {
   "cell_type": "code",
   "execution_count": null,
   "metadata": {},
   "outputs": [],
   "source": [
    "# match the ids\n",
    "labcorp_df = labcorp_df.rename(columns={\"SampleID\": \"ID\"})\n",
    "nmr_df = nmr_df[nmr_df[\"ID\"].isin(labcorp_df[\"ID\"])]\n",
    "\n",
    "# add PK column to corresponding id\n",
    "nmr_df = nmr_df.merge(labcorp_df[[\"ID\", \"PK\"]], on=\"ID\", how=\"inner\")\n",
    "nmr_df.drop(columns=[\"ID\"], inplace=True)\n",
    "nmr_columns = [c for c in nmr_df.columns if c not in [\"PK\"]]"
   ]
  },
  {
   "cell_type": "markdown",
   "metadata": {},
   "source": [
    "# Pre-processing Clinical data\n",
    "The pre-processing of the clinical dataset will perform the following steps:\n",
    "- Remove all NA-values for survival and glucose.\n",
    "- Remove patients with diabetes at baseline.\n",
    "- Use the pre-selection of features to filter the features to use.\n",
    "- Turn categorical features into numerical instead."
   ]
  },
  {
   "cell_type": "code",
   "execution_count": null,
   "metadata": {},
   "outputs": [],
   "source": [
    "import warnings\n",
    "\n",
    "warnings.simplefilter(action=\"ignore\", category=FutureWarning)\n",
    "\n",
    "import pandas as pd\n",
    "\n",
    "prevend_df = pd.read_spss(os.path.join(DATA_FOLDER, \"0_PREVEND.sav\"))\n",
    "\n",
    "prevend_df = prevend_df.replace([\"Yes\", \"yes\", \"ja\", \"Ja\", \" Yes\"], True)\n",
    "prevend_df = prevend_df.replace([\"No\", \"no\", \" No\", \"nee\"], False)\n",
    "prevend_df = prevend_df.replace([-99.0], pd.NA)\n",
    "prevend_df[\"diabeet_nc1\"] = prevend_df[\"diabeet_nc1\"].astype(bool)\n",
    "prevend_df[\"diabeet_nc2\"] = prevend_df[\"diabeet_nc2\"].astype(bool)\n",
    "prevend_df[\"Diabeet_nc3\"] = prevend_df[\"Diabeet_nc3\"].astype(bool)\n",
    "prevend_df[\"Diabeet_NC4\"] = prevend_df[\"Diabeet_NC4\"].astype(bool)\n",
    "prevend_df[\"Diabeet_NC5\"] = prevend_df[\"Diabeet_NC5\"].astype(bool)\n",
    "\n",
    "# Remove NaN values for GLUC_2 and SURVIVAL\n",
    "prevend_df = prevend_df.dropna(subset=[\"GLUC_2\"], inplace=False, axis=0).dropna(subset=[\"SURVIVAL\"], inplace=False, axis=0)\n",
    "\n",
    "# Keep everyone without diabetes and with a glucose level below 7.0\n",
    "prevend_df = prevend_df[\n",
    "    (prevend_df[\"GLUC_2\"] < 7.0)\n",
    "    & (prevend_df[\"diabeet_nc1\"] != True)\n",
    "    & (prevend_df[\"diabeet_nc2\"] != True)\n",
    "]\n",
    "\n",
    "# Keep everyone that is either False in nc2 or unknown in nc2 but false in nc3, nc4, or nc5\n",
    "prevend_df = prevend_df[\n",
    "    (prevend_df[\"diabeet_nc2\"] == False)\n",
    "    & (prevend_df[\"diabeet_nc2\"].isna() & prevend_df[\"Diabeet_nc3\"] == False)\n",
    "    & (prevend_df[\"diabeet_nc2\"].isna() & prevend_df[\"Diabeet_NC4\"] == False)\n",
    "    & (prevend_df[\"diabeet_nc2\"].isna() & prevend_df[\"Diabeet_NC5\"] == False)\n",
    "]\n",
    "diabetes_event = prevend_df.drop([\"diabeet_nc1\", \"diabeet_nc2\"], axis=1, inplace=False)\n",
    "\n",
    "diabetes_event = diabetes_event[\n",
    "    [\n",
    "        col\n",
    "        for col in prevend_df.columns\n",
    "        if col\n",
    "        in [\n",
    "            \"Diabeet_CASE_1\",\n",
    "            \"SURVIVAL\",\n",
    "            \"PK\",\n",
    "            \"GLUC_2\"\n",
    "        ]\n",
    "    ]\n",
    "]\n",
    "\n",
    "diabetes_event[\"CENSORED\"] = (\n",
    "    diabetes_event[\"Diabeet_CASE_1\"] == False\n",
    ").astype(int)\n",
    "diabetes_event = diabetes_event[[\"SURVIVAL\", \"CENSORED\", \"PK\", \"GLUC_2\"]]\n",
    "\n",
    "diabetes_censored = diabetes_event[\"CENSORED\"].value_counts()\n",
    "print(\n",
    "    f\"Diabetes events: {diabetes_censored[0]} / {diabetes_censored[1]} = {diabetes_censored[0] / diabetes_censored[1] * 100}%\"\n",
    ")"
   ]
  },
  {
   "cell_type": "code",
   "execution_count": null,
   "metadata": {},
   "outputs": [],
   "source": [
    "from visualization import plot_glucose_levels\n",
    "\n",
    "plot_glucose_levels(diabetes_event)"
   ]
  },
  {
   "cell_type": "code",
   "execution_count": null,
   "metadata": {},
   "outputs": [],
   "source": [
    "with open(\"prevend_columns.txt\", \"r\") as f:\n",
    "    keep_columns = [c.strip(\"\\n\").strip() for c in f.readlines()]\n",
    "filtered_df = prevend_df[keep_columns]\n",
    "\n",
    "# Keep everyone who has drank or eaten less than 1 cup or 1 cracker\n",
    "filtered_df = filtered_df[\n",
    "    (filtered_df[\"EAT_2B\"] != \">1 cracker\")\n",
    "    & (filtered_df[\"DRINK_2B\"] != \"> 1 cup of tea\")\n",
    "]\n",
    "\n",
    "filtered_df = filtered_df.drop([\"EAT_2B\", \"DRINK_2B\"], axis=1, inplace=False)\n",
    "# take the mean of variables with two measurements\n",
    "two_measurements = [\n",
    "    \"UAC\",\n",
    "    \"UK\",\n",
    "    \"UNA\",\n",
    "    \"UUR\",\n",
    "    \"UUZ\",\n",
    "    \"UCREA\",\n",
    "]\n",
    "\n",
    "for m in two_measurements:\n",
    "    filtered_df[m] = filtered_df[[f\"{m}1_2B\", f\"{m}2_2B\"]].mean(axis=1)\n",
    "    filtered_df = filtered_df.drop([f\"{m}1_2B\", f\"{m}2_2B\"], axis=1)\n",
    "\n",
    "# HYP if either HYP1 or HYP2 is True\n",
    "filtered_df[\"HYP\"] = filtered_df[\"HYP_1\"].astype(bool) | filtered_df[\"HYP_2\"].astype(\n",
    "    bool\n",
    ").astype(bool)\n",
    "filtered_df = filtered_df.drop([\"HYP_1\", \"HYP_2\"], axis=1)\n",
    "filtered_df = filtered_df.drop([\"GLUC_2\"], axis=1)"
   ]
  },
  {
   "cell_type": "code",
   "execution_count": null,
   "metadata": {},
   "outputs": [],
   "source": [
    "import numpy as np\n",
    "\n",
    "mapping_dict = {}\n",
    "for c in filtered_df.columns:\n",
    "    if c in [\"SURVIVAL\", \"CENSORED\", \"PK\"]:\n",
    "        continue\n",
    "    if filtered_df[c].dtype not in [\"float64\", \"bool\"]:\n",
    "        unique_values = list(filtered_df[c].values.categories)\n",
    "        mapping_dict[c] = {v: i for i, v in enumerate(unique_values)}\n",
    "    else:\n",
    "        unique_values = list(np.unique(filtered_df[c].values))\n",
    "        mapping_dict[c] = {v: i for i, v in enumerate(unique_values)}\n",
    "    if c in mapping_dict:\n",
    "        filtered_df.loc[:, c] = filtered_df[c].map(mapping_dict[c])\n",
    "prevend_columns = [c for c in filtered_df.columns if c not in [\"SURVIVAL\", \"CENSORED\", \"PK\"]] + [\"GLUC_2\"]"
   ]
  },
  {
   "cell_type": "markdown",
   "metadata": {},
   "source": [
    "# Split & save"
   ]
  },
  {
   "cell_type": "code",
   "execution_count": null,
   "metadata": {},
   "outputs": [],
   "source": [
    "from sklearn.model_selection import train_test_split\n",
    "\n",
    "full_features = nmr_df.merge(filtered_df, on=\"PK\", how=\"inner\")\n",
    "full_df = full_features.merge(diabetes_event, on=\"PK\", how=\"inner\")\n",
    "full_df = full_df.drop(columns=[\"PK\"])\n",
    "\n",
    "# create label columns\n",
    "full_df[\"lower_bound\"] = full_df[\"SURVIVAL\"]\n",
    "\n",
    "# upper boundary is survival if censored, +inf otherwise\n",
    "full_df[\"upper_bound\"] = full_df[\"SURVIVAL\"]\n",
    "full_df.loc[full_df[\"CENSORED\"] == 1, \"upper_bound\"] = np.inf\n",
    "full_df = full_df.drop(columns=[\"SURVIVAL\"])\n",
    "\n",
    "train, test = train_test_split(\n",
    "    full_df, test_size=0.2, stratify=full_df[\"CENSORED\"], random_state=42\n",
    ")\n",
    "print(full_df[\"CENSORED\"].value_counts())\n",
    "print(train[\"CENSORED\"].value_counts())\n",
    "print(test[\"CENSORED\"].value_counts())"
   ]
  },
  {
   "cell_type": "code",
   "execution_count": null,
   "metadata": {},
   "outputs": [],
   "source": [
    "from visualization import plot_survival\n",
    "\n",
    "plot_survival(train)"
   ]
  },
  {
   "cell_type": "code",
   "execution_count": null,
   "metadata": {},
   "outputs": [],
   "source": [
    "# train[prevend_columns + [\"CENSORED\", \"lower_bound\", \"upper_bound\"]].to_csv(\n",
    "#     \"datasets/clinical_train.csv\", index=False\n",
    "# )\n",
    "# train[nmr_columns + [\"CENSORED\", \"lower_bound\", \"upper_bound\"]].to_csv(\n",
    "#     \"datasets/nmr_train.csv\", index=False\n",
    "# )\n",
    "# train.to_csv(\"datasets/full_train.csv\", index=False)\n",
    "\n",
    "# test[prevend_columns + [\"CENSORED\", \"lower_bound\", \"upper_bound\"]].to_csv(\n",
    "#     \"datasets/clinical_test.csv\", index=False\n",
    "# )\n",
    "# test[nmr_columns + [\"CENSORED\", \"lower_bound\", \"upper_bound\"]].to_csv(\n",
    "#     \"datasets/nmr_test.csv\", index=False\n",
    "# )\n",
    "# test.to_csv(\"datasets/full_test.csv\", index=False)"
   ]
  }
 ],
 "metadata": {
  "kernelspec": {
   "display_name": "thesis",
   "language": "python",
   "name": "python3"
  },
  "language_info": {
   "codemirror_mode": {
    "name": "ipython",
    "version": 3
   },
   "file_extension": ".py",
   "mimetype": "text/x-python",
   "name": "python",
   "nbconvert_exporter": "python",
   "pygments_lexer": "ipython3",
   "version": "3.11.8"
  }
 },
 "nbformat": 4,
 "nbformat_minor": 2
}
